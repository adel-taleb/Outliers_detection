{
 "cells": [
  {
   "cell_type": "code",
   "execution_count": 1,
   "id": "3ce32c45-e31f-4ac3-b935-1ea335ea7399",
   "metadata": {},
   "outputs": [
    {
     "name": "stderr",
     "output_type": "stream",
     "text": [
      "2024-11-10 14:20:19.720205: E external/local_xla/xla/stream_executor/cuda/cuda_fft.cc:485] Unable to register cuFFT factory: Attempting to register factory for plugin cuFFT when one has already been registered\n",
      "2024-11-10 14:20:19.742104: E external/local_xla/xla/stream_executor/cuda/cuda_dnn.cc:8454] Unable to register cuDNN factory: Attempting to register factory for plugin cuDNN when one has already been registered\n",
      "2024-11-10 14:20:19.750576: E external/local_xla/xla/stream_executor/cuda/cuda_blas.cc:1452] Unable to register cuBLAS factory: Attempting to register factory for plugin cuBLAS when one has already been registered\n",
      "2024-11-10 14:20:19.848482: I tensorflow/core/platform/cpu_feature_guard.cc:210] This TensorFlow binary is optimized to use available CPU instructions in performance-critical operations.\n",
      "To enable the following instructions: SSE4.1 SSE4.2 AVX AVX2 FMA, in other operations, rebuild TensorFlow with the appropriate compiler flags.\n",
      "/home/adel/anaconda3/envs/rapids-24.10/lib/python3.12/site-packages/tqdm/auto.py:21: TqdmWarning: IProgress not found. Please update jupyter and ipywidgets. See https://ipywidgets.readthedocs.io/en/stable/user_install.html\n",
      "  from .autonotebook import tqdm as notebook_tqdm\n"
     ]
    }
   ],
   "source": [
    "from outliers_detection import OutliersDetection\n",
    "from pyod.models.iforest import IForest\n",
    "from pyod.models.lof import LOF\n",
    "from pyod.models.auto_encoder import AutoEncoder\n",
    "from pyod.models.knn import KNN\n",
    "from pyod.models.ocsvm import OCSVM\n",
    "from pyod.models.vae import VAE"
   ]
  },
  {
   "cell_type": "code",
   "execution_count": 2,
   "id": "938718c3-d5e8-41fd-9f64-a23bac6cded9",
   "metadata": {},
   "outputs": [],
   "source": [
    "model_conf = VAE(encoder_neuron_list=[128, 64, 32],\n",
    "            decoder_neuron_list=[32, 64, 128],\n",
    "            latent_dim=2,\n",
    "            hidden_activation_name='relu',\n",
    "            output_activation_name='sigmoid',\n",
    "            dropout_rate=0.2,\n",
    "            lr=0.001,\n",
    "            epoch_num=30,\n",
    "            batch_size=64,\n",
    "            contamination=0.01,\n",
    "            device='cuda',\n",
    "            verbose=1)\n",
    "model_name = \"Variational AutoEncoder (VAE)\"\n",
    "sub_dataset = \"Health_and_Personal_Care\"\n",
    "sub_dataset = \"Magazine_Subscriptions\"\n",
    "add_numerical_data = False\n",
    "save_dir = \"test_dir\""
   ]
  },
  {
   "cell_type": "code",
   "execution_count": 3,
   "id": "2f580fa4-5e01-4860-9a05-ff075c8176fa",
   "metadata": {},
   "outputs": [
    {
     "name": "stderr",
     "output_type": "stream",
     "text": [
      "\n",
      "KeyboardInterrupt\n",
      "\n"
     ]
    }
   ],
   "source": [
    "outlier_detector = OutliersDetection(\n",
    "    model_conf=model_conf,\n",
    "    model_name=model_name,\n",
    "    sub_dataset=sub_dataset,\n",
    "    add_numerical_data=add_numerical_data,\n",
    "    save_dir=save_dir\n",
    ")"
   ]
  },
  {
   "cell_type": "code",
   "execution_count": 2,
   "id": "c54e8ec9-087c-47fe-b60e-198310f8a885",
   "metadata": {},
   "outputs": [],
   "source": [
    "# Define the models and sub-datasets\n",
    "models = {\n",
    "    \"AutoEncoder\": AutoEncoder(\n",
    "        hidden_neuron_list=[64, 32],\n",
    "        hidden_activation_name='relu',\n",
    "        dropout_rate=0.2,\n",
    "        lr=0.001,\n",
    "        epoch_num=20,\n",
    "        batch_size=64,\n",
    "        contamination=0.01,\n",
    "        device='cuda',\n",
    "        verbose=1\n",
    "    ),\n",
    "    \"Variational AutoEncoder (VAE)\": VAE(\n",
    "        encoder_neuron_list=[128, 64, 32],\n",
    "        decoder_neuron_list=[32, 64, 128],\n",
    "        latent_dim=2,\n",
    "        hidden_activation_name='relu',\n",
    "        output_activation_name='sigmoid',\n",
    "        dropout_rate=0.2,\n",
    "        lr=0.001,\n",
    "        epoch_num=30,\n",
    "        batch_size=64,\n",
    "        contamination=0.01,\n",
    "        device='cuda',\n",
    "        verbose=1\n",
    "    ),\n",
    "    \"Isolation Forest\": IForest(\n",
    "        contamination=0.1,\n",
    "        random_state=42\n",
    "    )\n",
    "}"
   ]
  },
  {
   "cell_type": "code",
   "execution_count": 3,
   "id": "28f3ebad-8202-4978-b307-8c5d4869293a",
   "metadata": {},
   "outputs": [],
   "source": [
    "sub_datasets = [\n",
    "    \"Software\",\n",
    "    \"Movies_and_TV\"\n",
    "]\n",
    "#    \"Subscription_Boxes\",\n",
    "\n",
    "#    \"Magazine_Subscriptions\",\n",
    "#\"Health_and_Personal_Care\",\n",
    "#\"All_Beauty\",\n",
    "#    \"Industrial_and_Scientific\",\n",
    "#    \"Unknown\",\n"
   ]
  },
  {
   "cell_type": "code",
   "execution_count": null,
   "id": "f2364753-cc1d-49ac-aa29-2c963b6706e2",
   "metadata": {},
   "outputs": [
    {
     "name": "stdout",
     "output_type": "stream",
     "text": [
      "\n",
      "Training AutoEncoder on Software dataset...\n",
      "Torch availability: True\n",
      "Num GPUs Available for TensorFlow: 1\n"
     ]
    },
    {
     "name": "stderr",
     "output_type": "stream",
     "text": [
      "WARNING: All log messages before absl::InitializeLog() is called are written to STDERR\n",
      "I0000 00:00:1731244848.801576    6478 cuda_executor.cc:1001] could not open file to read NUMA node: /sys/bus/pci/devices/0000:2d:00.0/numa_node\n",
      "Your kernel may have been built without NUMA support.\n",
      "I0000 00:00:1731244848.802477    6478 cuda_executor.cc:1001] could not open file to read NUMA node: /sys/bus/pci/devices/0000:2d:00.0/numa_node\n",
      "Your kernel may have been built without NUMA support.\n",
      "I0000 00:00:1731244848.802512    6478 cuda_executor.cc:1001] could not open file to read NUMA node: /sys/bus/pci/devices/0000:2d:00.0/numa_node\n",
      "Your kernel may have been built without NUMA support.\n",
      "/home/adel/anaconda3/envs/rapids-24.10/lib/python3.12/site-packages/transformers/tokenization_utils_base.py:1601: FutureWarning: `clean_up_tokenization_spaces` was not set. It will be set to `True` by default. This behavior will be depracted in transformers v4.45, and will be then set to `False` by default. For more details check this issue: https://github.com/huggingface/transformers/issues/31884\n",
      "  warnings.warn(\n",
      "Batches: 100%|████████████████████████████████████████████████████████████████████████████████| 152506/152506 [28:15<00:00, 89.92it/s]\n"
     ]
    }
   ],
   "source": [
    "# Loop through each model and each sub-dataset\n",
    "for sub_dataset in sub_datasets:\n",
    "    for model_name, model_conf in models.items():\n",
    "        # Define save directory based on model and dataset names\n",
    "        save_dir = f\"all_results/{sub_dataset}/{model_name}\"\n",
    "        \n",
    "        # Create an instance of OutliersDetection\n",
    "        print(f\"\\nTraining {model_name} on {sub_dataset} dataset...\")\n",
    "        detector = OutliersDetection(\n",
    "            model_conf=model_conf,\n",
    "            model_name=model_name,\n",
    "            sub_dataset=sub_dataset,\n",
    "            add_numerical_data=False,\n",
    "            save_dir=save_dir\n",
    "        )\n",
    "        \n",
    "        # Perform distribution shift scoring if needed\n",
    "        detector.distribution_shift_scoring(detector.X_train, detector.X_test, save_dir=save_dir, filename=\"distribution_shift.png\")\n",
    "        \n",
    "        print(f\"Finished training {model_name} on {sub_dataset}.\\n\")\n"
   ]
  },
  {
   "cell_type": "code",
   "execution_count": null,
   "id": "796408fd-60a3-4f41-bf17-620a14dd448b",
   "metadata": {},
   "outputs": [],
   "source": []
  }
 ],
 "metadata": {
  "kernelspec": {
   "display_name": "Python 3 (ipykernel)",
   "language": "python",
   "name": "python3"
  },
  "language_info": {
   "codemirror_mode": {
    "name": "ipython",
    "version": 3
   },
   "file_extension": ".py",
   "mimetype": "text/x-python",
   "name": "python",
   "nbconvert_exporter": "python",
   "pygments_lexer": "ipython3",
   "version": "3.12.7"
  }
 },
 "nbformat": 4,
 "nbformat_minor": 5
}
