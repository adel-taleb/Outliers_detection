{
 "cells": [
  {
   "cell_type": "code",
   "execution_count": null,
   "id": "3ce32c45-e31f-4ac3-b935-1ea335ea7399",
   "metadata": {
    "scrolled": true
   },
   "outputs": [],
   "source": [
    "import os\n",
    "from outliers_detection import OutliersDetection\n",
    "from pyod.models.iforest import IForest\n",
    "from pyod.models.lof import LOF\n",
    "from pyod.models.auto_encoder import AutoEncoder\n",
    "from pyod.models.knn import KNN\n",
    "from pyod.models.ocsvm import OCSVM\n",
    "from pyod.models.vae import VAE"
   ]
  },
  {
   "cell_type": "code",
   "execution_count": 2,
   "id": "38cf0d15-6476-44e1-b5fa-5b562a1ac085",
   "metadata": {
    "scrolled": true
   },
   "outputs": [],
   "source": [
    "# Define the models and sub-datasets\n",
    "models = {\n",
    "    \"AutoEncoder\": AutoEncoder(\n",
    "        hidden_neuron_list=[64, 32],\n",
    "        hidden_activation_name='relu',\n",
    "        dropout_rate=0.2,\n",
    "        lr=0.001,\n",
    "        epoch_num=20,\n",
    "        batch_size=64,\n",
    "        contamination=0.01,\n",
    "        device='cuda',\n",
    "        verbose=1\n",
    "    ),\n",
    "    \"Variational AutoEncoder (VAE)\": VAE(\n",
    "        encoder_neuron_list=[128, 64, 32],\n",
    "        decoder_neuron_list=[32, 64, 128],\n",
    "        latent_dim=2,\n",
    "        hidden_activation_name='relu',\n",
    "        output_activation_name='sigmoid',\n",
    "        dropout_rate=0.2,\n",
    "        lr=0.001,\n",
    "        epoch_num=30,\n",
    "        batch_size=64,\n",
    "        contamination=0.01,\n",
    "        device='cuda',\n",
    "        verbose=1\n",
    "    ),\n",
    "    \"Isolation Forest\": IForest(\n",
    "        contamination=0.1,\n",
    "        random_state=42\n",
    "    )\n",
    "}\n",
    "sub_datasets = [\n",
    "    \"Health_and_Personal_Care\",\n",
    "    \"Magazine_Subscriptions\",\n",
    "    \"Subscription_Boxes\"\n",
    "]"
   ]
  },
  {
   "cell_type": "code",
   "execution_count": null,
   "id": "51ca83d5-3a7e-4c57-84e1-deb851f29066",
   "metadata": {
    "scrolled": true
   },
   "outputs": [],
   "source": [
    "# Loop through each model and each sub-dataset\n",
    "for sub_dataset in sub_datasets:\n",
    "    for model_name, model_conf in models.items():\n",
    "        # Define save directory based on model and dataset names\n",
    "        save_dir = f\"fast_api/all_results/{sub_dataset}/{model_name}_with_numerical_data\"\n",
    "        os.makedirs(save_dir, exist_ok=True)\n",
    "        # Create an instance of OutliersDetection\n",
    "        print(f\"\\nTraining {model_name} on {sub_dataset} dataset...\")\n",
    "        detector = OutliersDetection(\n",
    "            model_conf=model_conf,\n",
    "            model_name=model_name,\n",
    "            sub_dataset=sub_dataset,\n",
    "            add_numerical_data=True,\n",
    "            save_dir=save_dir\n",
    "        )\n",
    "        \n",
    "        # Perform distribution shift scoring if needed\n",
    "        detector.distribution_shift_scoring(detector.X_train, detector.X_test, save_dir=save_dir, filename=\"distribution_shift.png\")\n",
    "        \n",
    "        print(f\"Finished training {model_name} on {sub_dataset}.\\n\")\n"
   ]
  }
 ],
 "metadata": {
  "kernelspec": {
   "display_name": "Python 3 (ipykernel)",
   "language": "python",
   "name": "python3"
  },
  "language_info": {
   "codemirror_mode": {
    "name": "ipython",
    "version": 3
   },
   "file_extension": ".py",
   "mimetype": "text/x-python",
   "name": "python",
   "nbconvert_exporter": "python",
   "pygments_lexer": "ipython3",
   "version": "3.12.7"
  }
 },
 "nbformat": 4,
 "nbformat_minor": 5
}
