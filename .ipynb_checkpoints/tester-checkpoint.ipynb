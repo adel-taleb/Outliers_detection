{
 "cells": [
  {
   "cell_type": "code",
   "execution_count": 1,
   "id": "3238c022-65c0-494d-8fdf-34a48e6e2df3",
   "metadata": {},
   "outputs": [
    {
     "name": "stderr",
     "output_type": "stream",
     "text": [
      "/home/adel/anaconda3/envs/rapids-24.10/lib/python3.12/site-packages/sentence_transformers/cross_encoder/CrossEncoder.py:13: TqdmWarning: IProgress not found. Please update jupyter and ipywidgets. See https://ipywidgets.readthedocs.io/en/stable/user_install.html\n",
      "  from tqdm.autonotebook import tqdm, trange\n",
      "2024-11-11 18:34:28.543191: E external/local_xla/xla/stream_executor/cuda/cuda_fft.cc:485] Unable to register cuFFT factory: Attempting to register factory for plugin cuFFT when one has already been registered\n",
      "2024-11-11 18:34:28.553980: E external/local_xla/xla/stream_executor/cuda/cuda_dnn.cc:8454] Unable to register cuDNN factory: Attempting to register factory for plugin cuDNN when one has already been registered\n",
      "2024-11-11 18:34:28.557346: E external/local_xla/xla/stream_executor/cuda/cuda_blas.cc:1452] Unable to register cuBLAS factory: Attempting to register factory for plugin cuBLAS when one has already been registered\n",
      "2024-11-11 18:34:28.565462: I tensorflow/core/platform/cpu_feature_guard.cc:210] This TensorFlow binary is optimized to use available CPU instructions in performance-critical operations.\n",
      "To enable the following instructions: SSE4.1 SSE4.2 AVX AVX2 FMA, in other operations, rebuild TensorFlow with the appropriate compiler flags.\n"
     ]
    }
   ],
   "source": [
    "from outliers_tester import OutliersTester"
   ]
  },
  {
   "cell_type": "code",
   "execution_count": 4,
   "id": "aba1365c-ed51-4629-9ce1-317d333e7d3d",
   "metadata": {},
   "outputs": [
    {
     "name": "stderr",
     "output_type": "stream",
     "text": [
      "/home/adel/anaconda3/envs/rapids-24.10/lib/python3.12/site-packages/transformers/tokenization_utils_base.py:1601: FutureWarning: `clean_up_tokenization_spaces` was not set. It will be set to `True` by default. This behavior will be depracted in transformers v4.45, and will be then set to `False` by default. For more details check this issue: https://github.com/huggingface/transformers/issues/31884\n",
      "  warnings.warn(\n"
     ]
    }
   ],
   "source": [
    "model_path = \"all_results/Health_and_Personal_Care/AutoEncoder/AutoEncoder.joblib\"  # Update with your actual model path\n",
    "tester = OutliersTester(model_path=model_path)"
   ]
  },
  {
   "cell_type": "code",
   "execution_count": 6,
   "id": "00402ecf-d05c-4431-9bc1-e028e51c69f0",
   "metadata": {},
   "outputs": [
    {
     "name": "stdout",
     "output_type": "stream",
     "text": [
      "Is the review an outlier? Yes\n"
     ]
    }
   ],
   "source": [
    "# Test with a sample input\n",
    "product_title = \"autocar\"\n",
    "review_title = \"bicycle\"\n",
    "review_text = \"This car is not speed enogh\"\n",
    "\n",
    "is_outlier = tester.predict_outlier(product_title, review_title, review_text)\n",
    "print(\"Is the review an outlier?\" , \"Yes\" if is_outlier else \"No\")"
   ]
  },
  {
   "cell_type": "code",
   "execution_count": 10,
   "id": "3a482ac3-fb93-4b88-b828-b644edc9426b",
   "metadata": {},
   "outputs": [
    {
     "name": "stdout",
     "output_type": "stream",
     "text": [
      "Is the review an outlier? No\n"
     ]
    }
   ],
   "source": [
    "# Test with a sample input\n",
    "product_title = \"Formidable vélo\"\n",
    "review_title = \"\"\n",
    "review_text = \"The bycicle is broken\"\n",
    "\n",
    "is_outlier = tester.predict_outlier(product_title, review_title, review_text)\n",
    "print(\"Is the review an outlier?\" , \"Yes\" if is_outlier else \"No\")"
   ]
  }
 ],
 "metadata": {
  "kernelspec": {
   "display_name": "Python 3 (ipykernel)",
   "language": "python",
   "name": "python3"
  },
  "language_info": {
   "codemirror_mode": {
    "name": "ipython",
    "version": 3
   },
   "file_extension": ".py",
   "mimetype": "text/x-python",
   "name": "python",
   "nbconvert_exporter": "python",
   "pygments_lexer": "ipython3",
   "version": "3.12.7"
  }
 },
 "nbformat": 4,
 "nbformat_minor": 5
}
